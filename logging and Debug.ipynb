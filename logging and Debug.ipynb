{
 "cells": [
  {
   "cell_type": "code",
   "execution_count": 1,
   "id": "6eb67c05-09f5-4e2c-bb6a-de720c0e1e30",
   "metadata": {},
   "outputs": [],
   "source": [
    "import logging\n",
    "logging.basicConfig(filename = \"test.log\" , level = logging.INFO)"
   ]
  },
  {
   "cell_type": "code",
   "execution_count": 5,
   "id": "7cfad3da-e032-4592-b10d-2933b631b343",
   "metadata": {},
   "outputs": [],
   "source": [
    "logging.info(\"This is written in the log file using info\")"
   ]
  },
  {
   "cell_type": "code",
   "execution_count": 9,
   "id": "489b03bd-e028-401c-9335-2f069a28bff5",
   "metadata": {},
   "outputs": [],
   "source": [
    "logging.debug(\"This is updated using debug\") #It don't make changes in the log file because the level declared debug below this will be executable using logging"
   ]
  },
  {
   "cell_type": "code",
   "execution_count": null,
   "id": "7a5fb143-3dd9-44bf-b73f-b9b0806c3ab7",
   "metadata": {},
   "outputs": [],
   "source": [
    "# log levels\n",
    "# 1.Notset\n",
    "# 2.Debug\n",
    "# 3.Info\n",
    "# 4.Warning\n",
    "# 5.Error\n",
    "# 6.critical"
   ]
  },
  {
   "cell_type": "code",
   "execution_count": 17,
   "id": "8a0ebea0-9664-479a-9f0d-2cc8a8e16197",
   "metadata": {},
   "outputs": [],
   "source": [
    "logging.warning(\"This is all about warnings\")"
   ]
  },
  {
   "cell_type": "code",
   "execution_count": 19,
   "id": "79755c4c-efb5-4d5e-87b9-1f293b098531",
   "metadata": {},
   "outputs": [],
   "source": [
    "logging.error(\"this is an Error\")"
   ]
  },
  {
   "cell_type": "code",
   "execution_count": 11,
   "id": "484958da-21b2-4847-8587-d66b2752605b",
   "metadata": {},
   "outputs": [],
   "source": [
    "logging.critical(\"this is critical message stay alert!\")"
   ]
  },
  {
   "cell_type": "code",
   "execution_count": 49,
   "id": "d6d27b3e-7e7f-471a-8442-9a21f9e8e46e",
   "metadata": {},
   "outputs": [],
   "source": [
    "logging.shutdown()"
   ]
  },
  {
   "cell_type": "markdown",
   "id": "573e971f-9979-4172-9d94-078932778239",
   "metadata": {},
   "source": [
    "### level = DEBUG"
   ]
  },
  {
   "cell_type": "code",
   "execution_count": 2,
   "id": "5c58ba35-a0b9-48af-b4c2-a471df0645e1",
   "metadata": {},
   "outputs": [],
   "source": [
    "import logging\n",
    "logging.basicConfig(filename = \"test1.log\" , level = logging.DEBUG , format = '%(asctime)s %(message)s')\n"
   ]
  },
  {
   "cell_type": "code",
   "execution_count": null,
   "id": "8d28a578-669a-454b-8abf-42c050d7b406",
   "metadata": {},
   "outputs": [],
   "source": []
  },
  {
   "cell_type": "code",
   "execution_count": 5,
   "id": "389c76bc-c800-48b0-87f0-05aaab988cad",
   "metadata": {},
   "outputs": [],
   "source": [
    "logging.info(\"This is info logging where level is debug\")   "
   ]
  },
  {
   "cell_type": "code",
   "execution_count": 10,
   "id": "536e5039-7ca5-47ea-a654-c08aab20e94c",
   "metadata": {},
   "outputs": [],
   "source": [
    "logging.error(\"This is my error where level is debug\")"
   ]
  },
  {
   "cell_type": "code",
   "execution_count": 12,
   "id": "77f52940-e6c6-40ff-a707-e397c084bb58",
   "metadata": {},
   "outputs": [],
   "source": [
    "logging.critical(\"this is critical where level debug\")"
   ]
  },
  {
   "cell_type": "code",
   "execution_count": 21,
   "id": "cd281e68-ccbb-47c2-9100-75a4de085617",
   "metadata": {},
   "outputs": [],
   "source": [
    "logging.shutdown()"
   ]
  },
  {
   "cell_type": "code",
   "execution_count": 2,
   "id": "ae0b9222-3046-45fb-9c98-138e149457b7",
   "metadata": {},
   "outputs": [],
   "source": [
    "import logging"
   ]
  },
  {
   "cell_type": "code",
   "execution_count": 55,
   "id": "96564705-f3dd-41f9-a011-c9f9a9aae895",
   "metadata": {},
   "outputs": [],
   "source": [
    "logging.basicConfig(filename = \"test2.log\" , level= logging.DEBUG , format = '%(asctime)s %(name)s %(levelname)s %(message)s')"
   ]
  },
  {
   "cell_type": "code",
   "execution_count": 6,
   "id": "51cc8865-705b-4e91-9c51-65bc47d8b8bf",
   "metadata": {},
   "outputs": [],
   "source": [
    "logging.info(\"This is info logging where level is debug\")  "
   ]
  },
  {
   "cell_type": "code",
   "execution_count": 9,
   "id": "13ac4871-34ae-4e44-a303-a6e4e61df878",
   "metadata": {},
   "outputs": [],
   "source": [
    "logging.error(\"This is my error where level is debug\")"
   ]
  },
  {
   "cell_type": "code",
   "execution_count": 11,
   "id": "cb6d38c4-6f65-4dfc-9f19-9ab4029cef51",
   "metadata": {},
   "outputs": [],
   "source": [
    "logging.critical(\"this is critical where level debug\")"
   ]
  },
  {
   "cell_type": "code",
   "execution_count": 47,
   "id": "b5394226-79c8-4a7d-8847-cc0e89930a32",
   "metadata": {},
   "outputs": [],
   "source": [
    "l = [1,44,53,\"bat\", 7,99,\"Akhil\" , \"Thing\" , \"kalam\" , \"Rohit sharma\" ]"
   ]
  },
  {
   "cell_type": "code",
   "execution_count": 49,
   "id": "2b699b12-4874-425b-a8e6-5fe8adbe9e17",
   "metadata": {},
   "outputs": [],
   "source": [
    "l1_int = []\n",
    "l2_string = []"
   ]
  },
  {
   "cell_type": "code",
   "execution_count": 60,
   "id": "f9582405-bb6f-4c12-ae85-2bbb75477dc9",
   "metadata": {},
   "outputs": [],
   "source": [
    "for i in l:\n",
    "    if (type(i) == int):\n",
    "        logging.info(\"Iam iterating through the list and Iam searching for int data type till integer list is {}\".format(l1_int))\n",
    "        l1_int.append(i)\n",
    "    else :\n",
    "        if type(i) == str:\n",
    "            logging.info(\"Iam iterating through the list and Iam searching for string data type and str list is {}\".format(l2_string))\n",
    "            l2_string.append(i)\n",
    "logging.info(\"The two seperated lists are {l1} and {l2}\".format(l1 = l1_int , l2 = l2_string)) "
   ]
  },
  {
   "cell_type": "code",
   "execution_count": null,
   "id": "96598a84-a312-48ac-a790-0adabf54227d",
   "metadata": {},
   "outputs": [],
   "source": []
  }
 ],
 "metadata": {
  "kernelspec": {
   "display_name": "anaconda-panel-2023.05-py310",
   "language": "python",
   "name": "conda-env-anaconda-panel-2023.05-py310-py"
  },
  "language_info": {
   "codemirror_mode": {
    "name": "ipython",
    "version": 3
   },
   "file_extension": ".py",
   "mimetype": "text/x-python",
   "name": "python",
   "nbconvert_exporter": "python",
   "pygments_lexer": "ipython3",
   "version": "3.11.5"
  }
 },
 "nbformat": 4,
 "nbformat_minor": 5
}
