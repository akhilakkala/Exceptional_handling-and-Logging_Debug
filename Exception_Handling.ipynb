{
 "cells": [
  {
   "cell_type": "code",
   "execution_count": 1,
   "id": "164af7d2-1690-450e-ba28-a83c087b62fd",
   "metadata": {},
   "outputs": [
    {
     "name": "stdout",
     "output_type": "stream",
     "text": [
      "division by zero\n"
     ]
    }
   ],
   "source": [
    "try : \n",
    "    10/0\n",
    "except Exception as e:\n",
    "    print(e)"
   ]
  },
  {
   "cell_type": "code",
   "execution_count": 11,
   "id": "dc7ef03c-6a31-48ad-85c9-90ba811031e4",
   "metadata": {},
   "outputs": [],
   "source": [
    "# specific exception handling\n",
    "import logging\n",
    "logging.basicConfig(filename = \"error.logfile\" , level = logging.ERROR)\n",
    "try:\n",
    "    10/0\n",
    "except ZeroDivisionError as e:\n",
    "    logging.error(\"Iam trying to handle ZeroDivisionError {}\".format(e))"
   ]
  },
  {
   "cell_type": "code",
   "execution_count": 18,
   "id": "afbdd301-b9c5-4d13-956c-896933ff3d70",
   "metadata": {},
   "outputs": [],
   "source": [
    "#Mutiple Exceptions handling\n",
    "try:\n",
    "    10/0\n",
    "except FileNotFoundError as e:\n",
    "    logging.error(\"Iam trying to handle File not found Error {}\".format(e))\n",
    "except AttributeError as e:\n",
    "    logging.error(\"Iam trying to handle Attribute Error {}\".format(e))\n",
    "except ZeroDivisionError as e:\n",
    "    logging.error(\"Iam trying to handle ZeroDivisionError {}\".format(e))\n"
   ]
  },
  {
   "cell_type": "code",
   "execution_count": 26,
   "id": "9e8a424b-7fd1-494d-9d5e-e5769f5174c4",
   "metadata": {},
   "outputs": [],
   "source": [
    "# clean up resources\n",
    "try:\n",
    "    with open(\"Exception.txt\" , \"w\") as f:\n",
    "        f.write(\"Iam writing this line using f.write\")\n",
    "except FileNotFoundError as e:\n",
    "    logging.error(\"Iam trying to handle File not found Error {}\".format(e))\n",
    "finally:\n",
    "    f.close()"
   ]
  },
  {
   "cell_type": "code",
   "execution_count": null,
   "id": "2e4306e7-63a7-491b-a736-ac9a85373852",
   "metadata": {},
   "outputs": [],
   "source": []
  }
 ],
 "metadata": {
  "kernelspec": {
   "display_name": "anaconda-panel-2023.05-py310",
   "language": "python",
   "name": "conda-env-anaconda-panel-2023.05-py310-py"
  },
  "language_info": {
   "codemirror_mode": {
    "name": "ipython",
    "version": 3
   },
   "file_extension": ".py",
   "mimetype": "text/x-python",
   "name": "python",
   "nbconvert_exporter": "python",
   "pygments_lexer": "ipython3",
   "version": "3.11.5"
  }
 },
 "nbformat": 4,
 "nbformat_minor": 5
}
